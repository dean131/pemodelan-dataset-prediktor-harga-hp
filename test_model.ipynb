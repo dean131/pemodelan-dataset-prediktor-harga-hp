{
 "cells": [
  {
   "cell_type": "code",
   "execution_count": 115,
   "metadata": {},
   "outputs": [],
   "source": [
    "import joblib\n",
    "model = joblib.load('model_knn_prediksi_harga_hp.pkl')"
   ]
  },
  {
   "cell_type": "code",
   "execution_count": 116,
   "metadata": {},
   "outputs": [
    {
     "name": "stdout",
     "output_type": "stream",
     "text": [
      "['1925', '0', '3.0', '1', '0', '1', '16', '0.8', '175', '8', '11', '983', '1087', '2173', '7', '3', '19', '1', '1', '0']\n"
     ]
    }
   ],
   "source": [
    "data_test = '1925\t0\t3.0\t1\t0\t1\t16\t0.8\t175\t8\t11\t983\t1087\t2173\t7\t3\t19\t1\t1\t0'\n",
    "data_test = data_test.split()\n",
    "print(data_test)"
   ]
  },
  {
   "cell_type": "code",
   "execution_count": 117,
   "metadata": {},
   "outputs": [
    {
     "name": "stdout",
     "output_type": "stream",
     "text": [
      "[1925.0, 0.0, 3.0, 1.0, 0.0, 1.0, 16.0, 0.8, 175.0, 8.0, 11.0, 983.0, 1087.0, 2173.0, 7.0, 3.0, 19.0, 1.0, 1.0, 0.0]\n"
     ]
    }
   ],
   "source": [
    "array_baru = []\n",
    "for angka in data_test:\n",
    "    array_baru.append(float(angka))\n",
    "print(array_baru)"
   ]
  },
  {
   "cell_type": "code",
   "execution_count": 118,
   "metadata": {},
   "outputs": [
    {
     "name": "stdout",
     "output_type": "stream",
     "text": [
      "Hasil prediksi: 2\n"
     ]
    },
    {
     "name": "stderr",
     "output_type": "stream",
     "text": [
      "c:\\Users\\DEAN\\Desktop\\cobaknn\\env\\Lib\\site-packages\\sklearn\\base.py:439: UserWarning: X does not have valid feature names, but KNeighborsClassifier was fitted with feature names\n",
      "  warnings.warn(\n"
     ]
    }
   ],
   "source": [
    "prediksi = model.predict([array_baru])\n",
    "print(f'Hasil prediksi: {prediksi[0]}')"
   ]
  }
 ],
 "metadata": {
  "kernelspec": {
   "display_name": "env",
   "language": "python",
   "name": "python3"
  },
  "language_info": {
   "codemirror_mode": {
    "name": "ipython",
    "version": 3
   },
   "file_extension": ".py",
   "mimetype": "text/x-python",
   "name": "python",
   "nbconvert_exporter": "python",
   "pygments_lexer": "ipython3",
   "version": "3.11.3"
  },
  "orig_nbformat": 4
 },
 "nbformat": 4,
 "nbformat_minor": 2
}
